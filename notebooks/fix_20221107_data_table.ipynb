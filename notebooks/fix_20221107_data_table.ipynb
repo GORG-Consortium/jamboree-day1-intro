{
 "cells": [
  {
   "cell_type": "code",
   "execution_count": 2,
   "id": "d36be894-de38-4170-8872-5b2cfe75a95f",
   "metadata": {
    "tags": []
   },
   "outputs": [],
   "source": [
    "import pandas as pd\n",
    "import math\n",
    "from collections import Counter"
   ]
  },
  {
   "cell_type": "code",
   "execution_count": 3,
   "id": "190302a0-565c-4697-9308-48d7c7c96014",
   "metadata": {
    "tags": []
   },
   "outputs": [
    {
     "data": {
      "text/plain": [
       "SAG                               object\n",
       "field_sample_PI                   object\n",
       "geographic_region                 object\n",
       "expedition                        object\n",
       "station_name                      object\n",
       "field_sample                      object\n",
       "latitude                           int64\n",
       "longitude                          int64\n",
       "depth                             object\n",
       "field_collection_date             object\n",
       "FACS_date                         object\n",
       "probe                             object\n",
       "SAG_type                          object\n",
       "cell_diameter_µm                 float64\n",
       "side_scatter                      object\n",
       "forward_scatter                   object\n",
       "X531.40_488                       object\n",
       "X572.27_488                        int64\n",
       "X692.40_488                        int64\n",
       "trigger_pulse_width               object\n",
       "WGA-X_cp                         float64\n",
       "raw_read_count                    object\n",
       "NextFlow_contigs                   int64\n",
       "clean_contigs                      int64\n",
       "assembly_length                   object\n",
       "max_contig_length                 object\n",
       "gc_content                         int64\n",
       "completeness_CheckM1               int64\n",
       "completeness_CheckM2               int64\n",
       "estimated_genome_size_CheckM2     object\n",
       "coding_density                     int64\n",
       "CDS                               object\n",
       "perc_CDS_annotated                 int64\n",
       "av_CDS_length                     object\n",
       "rRNA                               int64\n",
       "tRNA                               int64\n",
       "gtdb_classification               object\n",
       "ssu_classif_1                     object\n",
       "ssu_classif_2                     object\n",
       "clusters_antiSMASH                 int64\n",
       "products_antiSMASH                object\n",
       "sequencer                         object\n",
       "deliverables_folder               object\n",
       "NextSeq_run_id                    object\n",
       "funding                           object\n",
       "commercial_use_restrictions       object\n",
       "dtype: object"
      ]
     },
     "execution_count": 3,
     "metadata": {},
     "output_type": "execute_result"
    }
   ],
   "source": [
    "df = pd.read_csv(\"/mnt/storage/data/sag-data/gorg-dark/SAG_summary_20221107.csv\")\n",
    "df.dtypes"
   ]
  },
  {
   "cell_type": "code",
   "execution_count": 4,
   "id": "fa4b2fba-7619-49b2-b671-1b978b79e8d5",
   "metadata": {
    "tags": []
   },
   "outputs": [],
   "source": [
    "really_wrong = ['depth']\n",
    "\n",
    "wrong_types = ['raw_read_count','assembly_length', 'max_contig_length',\n",
    "               'estimated_genome_size_CheckM2', 'CDS','av_CDS_length', 'side_scatter',\n",
    "               'forward_scatter','X531.40_488']"
   ]
  },
  {
   "cell_type": "code",
   "execution_count": 5,
   "id": "6f32507c-e505-4021-95bf-bf360366c417",
   "metadata": {
    "tags": []
   },
   "outputs": [],
   "source": [
    "# issue for most columns is that numbers have commas in them\n",
    "\n",
    "for column in wrong_types:\n",
    "\n",
    "    df[column] = [int(i.replace(',','')) for i in df[column]]"
   ]
  },
  {
   "cell_type": "code",
   "execution_count": 6,
   "id": "6b43e00f-6f3d-4736-b5a0-7e2e22aff8d4",
   "metadata": {
    "tags": []
   },
   "outputs": [
    {
     "data": {
      "text/plain": [
       "Counter({'553': 182,\n",
       "         '2,000': 945,\n",
       "         '3,000': 903,\n",
       "         '400': 806,\n",
       "         '550': 156,\n",
       "         '700': 60,\n",
       "         '1,000': 936,\n",
       "         '300': 151,\n",
       "         '450': 467,\n",
       "         '500': 774,\n",
       "         '350': 105,\n",
       "         '3,500': 65,\n",
       "         '3,977': 180,\n",
       "         '7,900': 152,\n",
       "         '10,899': 123,\n",
       "         '3,940': 146,\n",
       "         '793': 179,\n",
       "         '5,000': 348,\n",
       "         'omz': 234,\n",
       "         '750': 96,\n",
       "         '1,200': 150,\n",
       "         '4,200': 109,\n",
       "         '420': 178,\n",
       "         '2600m': 154,\n",
       "         '500m': 221,\n",
       "         '3250m': 191,\n",
       "         '770': 194,\n",
       "         '4,800': 165,\n",
       "         '6,000': 195,\n",
       "         '4,000': 184,\n",
       "         '200': 198,\n",
       "         '100': 231})"
      ]
     },
     "execution_count": 6,
     "metadata": {},
     "output_type": "execute_result"
    }
   ],
   "source": [
    "Counter(df['depth'])"
   ]
  },
  {
   "cell_type": "code",
   "execution_count": 7,
   "id": "89ea66b8-0c82-47ea-9688-34b0c3031ab5",
   "metadata": {
    "tags": []
   },
   "outputs": [],
   "source": [
    "df['depth_m'] = [int(i.replace(',','').replace('m','')) if i != 'omz' else math.nan for i in df['depth']]"
   ]
  },
  {
   "cell_type": "code",
   "execution_count": 8,
   "id": "a6c1c098-87b7-43b4-9953-d8fbd65a83ac",
   "metadata": {
    "tags": []
   },
   "outputs": [
    {
     "data": {
      "text/plain": [
       "Counter({553.0: 182,\n",
       "         2000.0: 945,\n",
       "         3000.0: 903,\n",
       "         400.0: 806,\n",
       "         550.0: 156,\n",
       "         700.0: 60,\n",
       "         1000.0: 936,\n",
       "         300.0: 151,\n",
       "         450.0: 467,\n",
       "         500.0: 995,\n",
       "         350.0: 105,\n",
       "         3500.0: 65,\n",
       "         3977.0: 180,\n",
       "         7900.0: 152,\n",
       "         10899.0: 123,\n",
       "         3940.0: 146,\n",
       "         793.0: 179,\n",
       "         5000.0: 348,\n",
       "         750.0: 96,\n",
       "         1200.0: 150,\n",
       "         4200.0: 109,\n",
       "         420.0: 178,\n",
       "         2600.0: 154,\n",
       "         3250.0: 191,\n",
       "         770.0: 194,\n",
       "         4800.0: 165,\n",
       "         6000.0: 195,\n",
       "         4000.0: 184,\n",
       "         200.0: 198,\n",
       "         100.0: 231})"
      ]
     },
     "execution_count": 8,
     "metadata": {},
     "output_type": "execute_result"
    }
   ],
   "source": [
    "Counter(df['depth_m'].dropna())"
   ]
  },
  {
   "cell_type": "code",
   "execution_count": 9,
   "id": "ec9dff63-098c-405c-9ace-0afc1fa97e42",
   "metadata": {
    "tags": []
   },
   "outputs": [],
   "source": [
    "df['plate'] = [\"-\".join(i.split(\"-\")[:-1]) for i in df['SAG']]"
   ]
  },
  {
   "cell_type": "code",
   "execution_count": 10,
   "id": "e1b011e2-fc26-44b9-bd5f-64760e914eef",
   "metadata": {
    "tags": []
   },
   "outputs": [],
   "source": [
    "df.to_csv(\"/mnt/storage/data/sag-data/gorg-dark/SAG_summary_20221107_cleaned.csv\", index = False)"
   ]
  },
  {
   "cell_type": "code",
   "execution_count": 13,
   "id": "d7bb3e52-3963-4cd3-919d-55f3193ad99f",
   "metadata": {},
   "outputs": [],
   "source": [
    "df.to_csv(\"../SAG_summary_20221107_cleaned.csv\", index = False)"
   ]
  },
  {
   "cell_type": "code",
   "execution_count": 12,
   "id": "e1cc0ba4-5c14-4944-8ae4-9c2814e0942c",
   "metadata": {
    "tags": []
   },
   "outputs": [
    {
     "data": {
      "text/plain": [
       "'/mnt/storage/tutorials/jamboree-day1-intro'"
      ]
     },
     "execution_count": 12,
     "metadata": {},
     "output_type": "execute_result"
    }
   ],
   "source": [
    "pwd"
   ]
  },
  {
   "cell_type": "code",
   "execution_count": null,
   "id": "35d816b4-d000-4b40-9646-157e92425b22",
   "metadata": {},
   "outputs": [],
   "source": []
  }
 ],
 "metadata": {
  "kernelspec": {
   "display_name": "GORGpy",
   "language": "python",
   "name": "gorgpy"
  },
  "language_info": {
   "codemirror_mode": {
    "name": "ipython",
    "version": 3
   },
   "file_extension": ".py",
   "mimetype": "text/x-python",
   "name": "python",
   "nbconvert_exporter": "python",
   "pygments_lexer": "ipython3",
   "version": "3.11.0"
  }
 },
 "nbformat": 4,
 "nbformat_minor": 5
}
